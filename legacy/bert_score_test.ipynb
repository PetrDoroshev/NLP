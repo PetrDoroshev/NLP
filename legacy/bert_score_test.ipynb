{
 "cells": [
  {
   "cell_type": "code",
   "execution_count": 10,
   "id": "ca8b82fb-3f57-4cfb-9980-25fa828ddeb5",
   "metadata": {},
   "outputs": [],
   "source": [
    "import os\n",
    "import re\n",
    "import json\n",
    "\n",
    "import bert_score"
   ]
  },
  {
   "cell_type": "code",
   "execution_count": 11,
   "id": "a2c1040e-4edc-49ad-9e3e-09d9708bbb34",
   "metadata": {},
   "outputs": [],
   "source": [
    "def load_dict_from_json(path):\n",
    "    with open(path, 'r', encoding='utf-8') as json_file:\n",
    "        dictionary = json.load(json_file)\n",
    "    return dictionary\n",
    "\n",
    "\n",
    "def split_page_and_metadata(full_text):\n",
    "    if not full_text.startswith(\"[(page\"):\n",
    "        return None, full_text\n",
    "\n",
    "    pattern = r'\\[\\(page \\d+\\) \\(latest_image_id \\d+\\)\\]'\n",
    "    match = re.search(pattern, full_text)\n",
    "    if match:\n",
    "        metadata = match.group(0)\n",
    "        other_content = re.sub(pattern, '', full_text).strip()\n",
    "        \n",
    "        return metadata, other_content\n",
    "    else:\n",
    "        return None, full_text"
   ]
  },
  {
   "cell_type": "code",
   "execution_count": 16,
   "id": "058b9191-a058-43a7-ab45-e1747145c33a",
   "metadata": {},
   "outputs": [
    {
     "name": "stdout",
     "output_type": "stream",
     "text": [
      "Processing: 41479_paragraphs_cleaned.json\n",
      "Processing: HYDROGENENERGETICS_HYDROGENSTORAGEINABOUNDSTATE_paragraphs_cleaned.json\n",
      "Processing: Novikov_Vodorodnaja jenergetika_paragraphs_cleaned.json\n",
      "Processing: Автореферат Спирин АВ_paragraphs_cleaned.json\n",
      "Processing: Диссертация Кораблева ЕА_paragraphs_cleaned.json\n",
      "Processing: Диссертация Липилин АС_paragraphs_cleaned.json\n",
      "Processing: Диссертация Новик НН_paragraphs_cleaned.json\n",
      "Processing: Книга Керамика ZrO2_paragraphs_cleaned.json\n",
      "Processing: МАТЕРИАЛЫ ДЛЯ ВОДОРОДНОЙ ЭНЕРГЕТИКИ_paragraphs_cleaned.json\n",
      "Processing: ОСОБЕННОСТИ ТЕХНОЛОГИИ ПОЛУЧЕНИЯ ВОДОРОДА С ИСПОЛЬЗОВАНИЕМ ЭАВ_paragraphs_cleaned.json\n",
      "Processing: РАЗРАБОТКА ПРОЦЕССА ПОЛУЧЕНИЯ ВОДОРОДА ИЗ ВОДЫ С ИСПОЛЬЗОВАНИЕМ ЭАВ_paragraphs_cleaned.json\n",
      "Processing: Статья Немудрый АП_paragraphs_cleaned.json\n",
      "Processing: Статья Твёрдые электролиты ZrO2–Sc2O3_paragraphs_cleaned.json\n",
      "Processing: ЭНЕРГОАККУМУЛИРУЮЩИЕ ВЕЩЕСТВА В ВОДОРОДНОЙ ЭНЕРГЕТИКЕ_paragraphs_cleaned.json\n",
      "Processing: Энергоаккумулирующие вещества как альтернативное топливо для ГТД_paragraphs_cleaned.json\n",
      "Processing: Якименко Л.М. - Электролиз воды_paragraphs_cleaned.json\n",
      "Precision: 0.7876425385475159\n",
      "Recall: 0.7528964281082153\n",
      "F1: 0.7694549560546875\n"
     ]
    }
   ],
   "source": [
    "all_raw_articles = sorted(os.listdir(\"./../txt_articles/Фрагменты\"))\n",
    "\n",
    "def remove_digits(text):\n",
    "    return ''.join(char for char in text if not char.isdigit())\n",
    "\n",
    "\n",
    "def merge_paragraphs(text_file_path):\n",
    "    if \"Очистка_текста\" in text_file_path:\n",
    "        paragraphs = load_dict_from_json(text_file_path)[\"cleaned_text\"]\n",
    "    else:\n",
    "        paragraphs = load_dict_from_json(text_file_path)[\"fragments\"]\n",
    "    merged_text = \"\"\n",
    "\n",
    "    for i in paragraphs:\n",
    "        _, now_par = split_page_and_metadata(i)\n",
    "        merged_text += now_par\n",
    "    return merged_text \n",
    "\n",
    "all_raw_text = []\n",
    "all_cleaned_text = []\n",
    "\n",
    "for now_raw_article in all_raw_articles:\n",
    "    print(f\"Processing: {now_raw_article}\")\n",
    "    full_file_path = os.path.join(\"./../txt_articles/Фрагменты\", now_raw_article)\n",
    "    article_name = str(\".\".join(now_raw_article.split(\".\")[:-1]))\n",
    "\n",
    "    cleaned_path = str(full_file_path).replace(\"Фрагменты\", \"Очистка_текста\").replace(\"_paragraphs_cleaned\", \"_paragraphs_cleaned_cleaned\")\n",
    "    \n",
    "    article_text = merge_paragraphs(full_file_path)\n",
    "    cleaned_text = merge_paragraphs(cleaned_path)\n",
    "\n",
    "    article_text = remove_digits(article_text)\n",
    "\n",
    "    if not article_text.strip() and not cleaned_text.strip():\n",
    "        continue\n",
    "\n",
    "    all_raw_text.append(article_text)\n",
    "    all_cleaned_text.append(cleaned_text)\n",
    "\n",
    "from bert_score import score\n",
    "\n",
    "P, R, F1 = score(all_cleaned_text, all_raw_text, lang=\"ru\", model_type=\"bert-base-multilingual-cased\")\n",
    "\n",
    "# Средние значения\n",
    "print(\"Precision:\", P.mean().item())\n",
    "print(\"Recall:\", R.mean().item())\n",
    "print(\"F1:\", F1.mean().item())"
   ]
  },
  {
   "cell_type": "code",
   "execution_count": null,
   "id": "5966ee5f-616f-4658-abb7-8693b7f10b16",
   "metadata": {},
   "outputs": [],
   "source": []
  }
 ],
 "metadata": {
  "kernelspec": {
   "display_name": "Python 3 (ipykernel)",
   "language": "python",
   "name": "python3"
  },
  "language_info": {
   "codemirror_mode": {
    "name": "ipython",
    "version": 3
   },
   "file_extension": ".py",
   "mimetype": "text/x-python",
   "name": "python",
   "nbconvert_exporter": "python",
   "pygments_lexer": "ipython3",
   "version": "3.9.21"
  }
 },
 "nbformat": 4,
 "nbformat_minor": 5
}
