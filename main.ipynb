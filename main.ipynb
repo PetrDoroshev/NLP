{
 "cells": [
  {
   "cell_type": "markdown",
   "id": "0948c375-ef6c-43cd-9c62-928859df2f75",
   "metadata": {},
   "source": [
    "# Русские статьи (картинки)"
   ]
  },
  {
   "cell_type": "markdown",
   "id": "1075102f-86c2-4aeb-9c64-dc0c9e5ed8d8",
   "metadata": {},
   "source": [
    "# Фаза 0 - Установка констант"
   ]
  },
  {
   "cell_type": "markdown",
   "id": "f08ab23f-c0b5-4455-8e60-8f18b238939c",
   "metadata": {},
   "source": [
    "## • Инициализация переменных"
   ]
  },
  {
   "cell_type": "code",
   "execution_count": 60,
   "id": "65d43add-8ae3-4775-8486-defb7f33bf77",
   "metadata": {},
   "outputs": [],
   "source": [
    "USE_DEFAULT_SETTINGS = False\n",
    "# Path to raw .docx and .pdf files\n",
    "ARTICLES_PATH = './Articles/'\n",
    "# Path to converted and splitted raw article's paragraphs (.txt)\n",
    "RAW_PARAGS = './txt_articles/'\n",
    "# Teseract's path to exe/bin or '<linux>' if teseract installed as package (command tesseract available)\n",
    "TESERACT_PATH = None if USE_DEFAULT_SETTINGS else r'/usr/bin/tesseract-ocr' #  D:/Software/Tesseract-OCR/tesseract.exe # /usr/bin/tesseract-ocr\n",
    "import importlib"
   ]
  },
  {
   "cell_type": "markdown",
   "id": "39192541-1697-4430-9ea7-ad71a7d96d40",
   "metadata": {},
   "source": [
    "# Фаза 1 - Предобработка исходных файлов"
   ]
  },
  {
   "cell_type": "markdown",
   "id": "7e83bdd6-c762-4c50-b555-371733a6ba73",
   "metadata": {},
   "source": [
    "## • Чтение файлов, разбиение на параграфы, OCR"
   ]
  },
  {
   "cell_type": "code",
   "execution_count": 61,
   "id": "9ee90501-e416-4e8a-a62b-32c10739eeb7",
   "metadata": {
    "scrolled": true
   },
   "outputs": [
    {
     "name": "stdout",
     "output_type": "stream",
     "text": [
      "Processing: 41479.pdf\n",
      "Processing: HYDROGENENERGETICS_HYDROGENSTORAGEINABOUNDSTATE.pdf\n",
      "\tPage 4 skipped due no text or no image or disabled teseract\n",
      "Processing: Novikov_Vodorodnaja jenergetika.pdf\n",
      "Processing: Автореферат Спирин АВ.pdf\n",
      "Processing: Диссертация Кораблева ЕА.pdf\n",
      "\tImage processing for page №145\n",
      "\tImage processing for page №147\n",
      "\tImage processing for page №149\n",
      "\tImage processing for page №151\n",
      "\tImage processing for page №153\n",
      "\tImage processing for page №155\n",
      "\tImage processing for page №157\n",
      "\tImage processing for page №160\n",
      "Processing: Диссертация Липилин АС.pdf\n",
      "Processing: Диссертация Новик НН.pdf\n",
      "Processing: Книга Керамика ZrO2.pdf\n",
      "\tImage processing for page №0\n",
      "Processing: МАТЕРИАЛЫ ДЛЯ ВОДОРОДНОЙ ЭНЕРГЕТИКИ.pdf\n",
      "Processing: ОСОБЕННОСТИ ТЕХНОЛОГИИ ПОЛУЧЕНИЯ ВОДОРОДА С ИСПОЛЬЗОВАНИЕМ ЭАВ.pdf\n",
      "Processing: РАЗРАБОТКА ПРОЦЕССА ПОЛУЧЕНИЯ ВОДОРОДА ИЗ ВОДЫ С ИСПОЛЬЗОВАНИЕМ ЭАВ.docx\n",
      "Processing: Статья Немудрый АП.pdf\n",
      "Processing: Статья Твёрдые электролиты ZrO2–Sc2O3.pdf\n",
      "Processing: ЭНЕРГОАККУМУЛИРУЮЩИЕ ВЕЩЕСТВА В ВОДОРОДНОЙ ЭНЕРГЕТИКЕ.pdf\n",
      "Processing: Энергоаккумулирующие вещества как альтернативное топливо для ГТД.docx\n",
      "Processing: Якименко Л.М. - Электролиз воды.pdf\n",
      "\tImage processing for page №0\n",
      "\tImage processing for page №10\n",
      "\tImage processing for page №20\n",
      "\tImage processing for page №30\n",
      "\tImage processing for page №40\n",
      "\tImage processing for page №50\n",
      "\tImage processing for page №60\n",
      "\tImage processing for page №70\n",
      "\tImage processing for page №80\n",
      "\tImage processing for page №90\n",
      "\tImage processing for page №100\n",
      "\tImage processing for page №110\n",
      "\tImage processing for page №120\n",
      "\tImage processing for page №130\n",
      "\tImage processing for page №140\n",
      "\tImage processing for page №150\n",
      "\tImage processing for page №160\n",
      "\tImage processing for page №170\n",
      "\tImage processing for page №180\n",
      "\tImage processing for page №190\n",
      "\tImage processing for page №200\n",
      "\tImage processing for page №210\n",
      "\tImage processing for page №220\n",
      "\tImage processing for page №230\n",
      "\tImage processing for page №240\n",
      "\tImage processing for page №250\n",
      "\tImage processing for page №260\n",
      "Completed!\n"
     ]
    }
   ],
   "source": [
    "import paragraph_processing\n",
    "importlib.reload(paragraph_processing)\n",
    "paragraph_processing.mod_paragraph_processing(ARTICLES_PATH, RAW_PARAGS, TESERACT_PATH)"
   ]
  },
  {
   "cell_type": "code",
   "execution_count": null,
   "id": "fcdae6b0-a958-48e5-a351-9bc9b2d09a99",
   "metadata": {},
   "outputs": [],
   "source": []
  }
 ],
 "metadata": {
  "kernelspec": {
   "display_name": "Python 3 (ipykernel)",
   "language": "python",
   "name": "python3"
  },
  "language_info": {
   "codemirror_mode": {
    "name": "ipython",
    "version": 3
   },
   "file_extension": ".py",
   "mimetype": "text/x-python",
   "name": "python",
   "nbconvert_exporter": "python",
   "pygments_lexer": "ipython3",
   "version": "3.13.3"
  }
 },
 "nbformat": 4,
 "nbformat_minor": 5
}
