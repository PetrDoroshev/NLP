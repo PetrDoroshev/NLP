{
 "cells": [
  {
   "cell_type": "markdown",
   "id": "0948c375-ef6c-43cd-9c62-928859df2f75",
   "metadata": {},
   "source": [
    "# Русские статьи (картинки)"
   ]
  },
  {
   "cell_type": "markdown",
   "id": "1075102f-86c2-4aeb-9c64-dc0c9e5ed8d8",
   "metadata": {},
   "source": [
    "# Фаза 0 - Установка констант"
   ]
  },
  {
   "cell_type": "markdown",
   "id": "f08ab23f-c0b5-4455-8e60-8f18b238939c",
   "metadata": {},
   "source": [
    "## • Инициализация переменных"
   ]
  },
  {
   "cell_type": "code",
   "execution_count": null,
   "id": "65d43add-8ae3-4775-8486-defb7f33bf77",
   "metadata": {},
   "outputs": [],
   "source": [
    "# Created to fast turn off Teseract & Hunspell\n",
    "USE_DEFAULT_SETTINGS = False\n",
    "# Path to raw .docx and .pdf files\n",
    "ARTICLES_PATH = './Articles/'\n",
    "# Path to converted and splitted raw article's paragraphs (.txt)\n",
    "RAW_PARAGS = './txt_articles/Параграфы/'\n",
    "# Teseract's path to exe/bin or '<linux>' if teseract installed as package (command tesseract available)\n",
    "TESERACT_PATH = None if USE_DEFAULT_SETTINGS else r'/usr/bin/tesseract-ocr' #  D:/Software/Tesseract-OCR/tesseract.exe # /usr/bin/tesseract-ocr\n",
    "# Path to store images extracted from pdfs and words\n",
    "IMAGE_PATH = None if USE_DEFAULT_SETTINGS else r'extracted_images/'\n",
    "# Path to clean and preprocessed paragraphs texts\n",
    "CLEAN_PARAGS = './txt_articles/Очистка_текста/'\n",
    "# Hunspells dic and aff files. Dict download - https://github.com/LibreOffice/dictionaries/tree/master/ru_RU\n",
    "HUNSPELL_PATH = None if USE_DEFAULT_SETTINGS else [\"/usr/share/hunspell/ru_RU.dic\", \"/usr/share/hunspell/ru_RU.aff\"]\n",
    "# Regex text file description\n",
    "REGEX_PATH = './models/regxs_to_clear.txt'\n",
    "# Path to created articles tokenization\n",
    "TOKENIZE_PATH = './txt_articles/Токенизация/'\n",
    "# Path to created articles lemmas \n",
    "LEMMATIZE_PATH = './txt_articles/Лемматизация/'\n",
    "# Morph vocab and navec models\n",
    "MORPH_NAVEC = {\"morph\": 'models/slovnet_morph_news_v1.tar', \"navec\": 'models/navec_news_v1_1B_250K_300d_100q.tar'}\n",
    "\n",
    "import importlib"
   ]
  },
  {
   "cell_type": "markdown",
   "id": "39192541-1697-4430-9ea7-ad71a7d96d40",
   "metadata": {},
   "source": [
    "# Фаза 1 - Предобработка исходных файлов"
   ]
  },
  {
   "cell_type": "markdown",
   "id": "7e83bdd6-c762-4c50-b555-371733a6ba73",
   "metadata": {},
   "source": [
    "## • Чтение файлов, разбиение на параграфы, OCR"
   ]
  },
  {
   "cell_type": "code",
   "execution_count": null,
   "id": "9ee90501-e416-4e8a-a62b-32c10739eeb7",
   "metadata": {
    "scrolled": true
   },
   "outputs": [],
   "source": [
    "import paragraph_processing\n",
    "importlib.reload(paragraph_processing)\n",
    "paragraph_processing.mod_paragraph_processing(ARTICLES_PATH, RAW_PARAGS, TESERACT_PATH, IMAGE_PATH)"
   ]
  },
  {
   "cell_type": "markdown",
   "id": "a2e92531-5392-40e2-bbc7-f12cf3d42e27",
   "metadata": {},
   "source": [
    "## • Предобработка, spell-check для сканов"
   ]
  },
  {
   "cell_type": "code",
   "execution_count": null,
   "id": "1fbc23ec-f339-4760-9e3e-d6a1ee1fc585",
   "metadata": {},
   "outputs": [],
   "source": [
    "import text_preprocessing\n",
    "importlib.reload(text_preprocessing)\n",
    "text_preprocessing.mod_text_preprocessing(RAW_PARAGS, CLEAN_PARAGS, REGEX_PATH, HUNSPELL_PATH)"
   ]
  },
  {
   "cell_type": "markdown",
   "id": "14ba6b20-cd2d-478b-8d7e-f80a3d7162fb",
   "metadata": {},
   "source": [
    "## • Токенизация, лемматизация"
   ]
  },
  {
   "cell_type": "code",
   "execution_count": null,
   "id": "9677ef1f-a9ef-468c-9939-f16cef931352",
   "metadata": {},
   "outputs": [],
   "source": [
    "import model_creation\n",
    "importlib.reload(model_creation)\n",
    "model_creation.mod_model_creation(CLEAN_PARAGS, TOKENIZE_PATH, LEMMATIZE_PATH, MORPH_NAVEC)"
   ]
  },
  {
   "cell_type": "code",
   "execution_count": null,
   "id": "a0f2b4a2-b493-4ae7-aeb0-50fb67c9938b",
   "metadata": {},
   "outputs": [],
   "source": []
  }
 ],
 "metadata": {
  "kernelspec": {
   "display_name": "Python 3 (ipykernel)",
   "language": "python",
   "name": "python3"
  },
  "language_info": {
   "codemirror_mode": {
    "name": "ipython",
    "version": 3
   },
   "file_extension": ".py",
   "mimetype": "text/x-python",
   "name": "python",
   "nbconvert_exporter": "python",
   "pygments_lexer": "ipython3",
   "version": "3.13.3"
  }
 },
 "nbformat": 4,
 "nbformat_minor": 5
}
