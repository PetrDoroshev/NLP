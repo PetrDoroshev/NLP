{
 "cells": [
  {
   "cell_type": "markdown",
   "id": "0948c375-ef6c-43cd-9c62-928859df2f75",
   "metadata": {},
   "source": [
    "# Русские статьи (картинки)"
   ]
  },
  {
   "cell_type": "markdown",
   "id": "1075102f-86c2-4aeb-9c64-dc0c9e5ed8d8",
   "metadata": {},
   "source": [
    "# Фаза 0 - Установка констант"
   ]
  },
  {
   "cell_type": "markdown",
   "id": "f08ab23f-c0b5-4455-8e60-8f18b238939c",
   "metadata": {},
   "source": [
    "## • Инициализация переменных"
   ]
  },
  {
   "cell_type": "code",
   "execution_count": null,
   "id": "65d43add-8ae3-4775-8486-defb7f33bf77",
   "metadata": {},
   "outputs": [],
   "source": [
    "# Created to fast turn off Teseract & Hunspell\n",
    "USE_DEFAULT_SETTINGS = False\n",
    "# Path to raw .docx and .pdf files\n",
    "ARTICLES_PATH = './Articles/'\n",
    "# Path to converted and splitted raw article's paragraphs (.txt)\n",
    "RAW_PARAGS = './txt_articles/Параграфы/'\n",
    "# Teseract's path to exe/bin or '<linux>' if teseract installed as package (command tesseract available)\n",
    "TESERACT_PATH = None if USE_DEFAULT_SETTINGS else r'/usr/bin/tesseract-ocr' #  D:/Software/Tesseract-OCR/tesseract.exe # /usr/bin/tesseract-ocr\n",
    "# Path to store images extracted from pdfs and words\n",
    "IMAGE_PATH = None if USE_DEFAULT_SETTINGS else r'extracted_images/'\n",
    "# Path to clean and preprocessed paragraphs texts\n",
    "CLEAN_FRAGMENTS = './txt_articles/Очистка_текста/'\n",
    "# Hunspells dic and aff files. Dict download - https://github.com/LibreOffice/dictionaries/tree/master/ru_RU\n",
    "HUNSPELL_PATH = None if USE_DEFAULT_SETTINGS else [\"/usr/share/hunspell/ru_RU.dic\", \"/usr/share/hunspell/ru_RU.aff\"]\n",
    "# Regex text file description with clear content\n",
    "CLEAR_REGEX_PATH = './models/regxs_to_clear.txt'\n",
    "# Path to fragments folder\n",
    "FRAGMENTS_PATH = './txt_articles/Фрагменты/'\n",
    "# Regex text file description with clear content\n",
    "FRAG_PICK_REGEX_PATH = './models/regs_to_search.txt'\n",
    "# Path to created articles tokenization\n",
    "TOKENIZE_PATH = './txt_articles/Токенизация/'\n",
    "# Path to created articles lemmas \n",
    "LEMMATIZE_PATH = './txt_articles/Лемматизация/'\n",
    "# Morph vocab and navec models\n",
    "MORPH_NAVEC = {\"morph\": 'models/slovnet_morph_news_v1.tar', \"navec\": 'models/navec_news_v1_1B_250K_300d_100q.tar'}\n",
    "# Word2Vec Model path\n",
    "WORD_TO_VEC_MODEL_PATH = \"./models/word2vec.model\"\n",
    "# File to save temporal result for word2vec processing\n",
    "COMBINED_TEXT_PATH = \"./models/train_text.txt\"\n",
    "# Path to store functional triplets\n",
    "FUNC_TRIPLETS_PATH = \"./models/functional_triplets.json\"\n",
    "# Path to store hier triplets\n",
    "HIER_TRIPLETS_PATH = \"./models/hier_triplets.json\"\n",
    "\n",
    "import importlib"
   ]
  },
  {
   "cell_type": "markdown",
   "id": "39192541-1697-4430-9ea7-ad71a7d96d40",
   "metadata": {},
   "source": [
    "# Фаза 1 - Предобработка исходных файлов"
   ]
  },
  {
   "cell_type": "markdown",
   "id": "7e83bdd6-c762-4c50-b555-371733a6ba73",
   "metadata": {},
   "source": [
    "## • Чтение файлов, разбиение на параграфы, OCR"
   ]
  },
  {
   "cell_type": "code",
   "execution_count": null,
   "id": "9ee90501-e416-4e8a-a62b-32c10739eeb7",
   "metadata": {
    "scrolled": true
   },
   "outputs": [],
   "source": [
    "import a_paragraph_processing\n",
    "importlib.reload(a_paragraph_processing)\n",
    "a_paragraph_processing.mod_paragraph_processing(ARTICLES_PATH, RAW_PARAGS, TESERACT_PATH, IMAGE_PATH)"
   ]
  },
  {
   "cell_type": "markdown",
   "id": "3d64b5d6-48af-4a91-b795-2f705ede2354",
   "metadata": {},
   "source": [
    "## • Выделение фрагментов"
   ]
  },
  {
   "cell_type": "code",
   "execution_count": null,
   "id": "74aae9d1-34dc-4cf7-9470-6cc6379f2331",
   "metadata": {},
   "outputs": [],
   "source": [
    "import b_filter_fragments\n",
    "importlib.reload(b_filter_fragments)\n",
    "b_filter_fragments.mod_filter_fragments(RAW_PARAGS, FRAGMENTS_PATH, FRAG_PICK_REGEX_PATH)"
   ]
  },
  {
   "cell_type": "markdown",
   "id": "a2e92531-5392-40e2-bbc7-f12cf3d42e27",
   "metadata": {},
   "source": [
    "## • Предобработка, spell-check для сканов"
   ]
  },
  {
   "cell_type": "code",
   "execution_count": null,
   "id": "1fbc23ec-f339-4760-9e3e-d6a1ee1fc585",
   "metadata": {},
   "outputs": [],
   "source": [
    "import c_text_preprocessing\n",
    "importlib.reload(c_text_preprocessing)\n",
    "c_text_preprocessing.mod_text_preprocessing(FRAGMENTS_PATH, CLEAN_FRAGMENTS, CLEAR_REGEX_PATH, HUNSPELL_PATH)"
   ]
  },
  {
   "cell_type": "markdown",
   "id": "14ba6b20-cd2d-478b-8d7e-f80a3d7162fb",
   "metadata": {},
   "source": [
    "## • Токенизация, лемматизация"
   ]
  },
  {
   "cell_type": "code",
   "execution_count": null,
   "id": "9677ef1f-a9ef-468c-9939-f16cef931352",
   "metadata": {},
   "outputs": [],
   "source": [
    "import d_models_creation\n",
    "importlib.reload(d_models_creation)\n",
    "d_models_creation.mod_model_creation(CLEAN_PARAGS, TOKENIZE_PATH, LEMMATIZE_PATH, MORPH_NAVEC)"
   ]
  },
  {
   "cell_type": "markdown",
   "id": "e08fd026-74fd-4175-885c-dd8e632623ec",
   "metadata": {},
   "source": [
    "# Фаза 2 - Создание векторной модели"
   ]
  },
  {
   "cell_type": "code",
   "execution_count": null,
   "id": "00640768-d502-4064-8d06-adcc33cf3f08",
   "metadata": {},
   "outputs": [],
   "source": [
    "import e_build_word2vec\n",
    "importlib.reload(e_build_word2vec)\n",
    "e_build_word2vec.mod_build_word2vec(CLEAN_FRAGMENTS, WORD_TO_VEC_MODEL_PATH, COMBINED_TEXT_PATH, MORPH_NAVEC)"
   ]
  },
  {
   "cell_type": "markdown",
   "id": "f18bceca-3e9a-4244-beb9-467bfe4b980c",
   "metadata": {},
   "source": [
    "# Фаза 3 - Создание связей"
   ]
  },
  {
   "cell_type": "markdown",
   "id": "ad9463d2-f115-4003-8eb3-6b8fc3c19105",
   "metadata": {},
   "source": [
    "## • Функциональные связи"
   ]
  },
  {
   "cell_type": "code",
   "execution_count": null,
   "id": "5c4edba4-a22c-4c40-b432-63973150cd3a",
   "metadata": {},
   "outputs": [],
   "source": [
    "import f_extract_functional_relations\n",
    "importlib.reload(f_extract_functional_relations)\n",
    "f_extract_functional_relations.mod_extract_functional_relations(FRAGMENTS_PATH, FUNC_TRIPLETS_PATH)"
   ]
  },
  {
   "cell_type": "markdown",
   "id": "45ea188b-4156-459e-96c7-8d37d0442976",
   "metadata": {},
   "source": [
    "## • Иерархические связи"
   ]
  },
  {
   "cell_type": "code",
   "execution_count": null,
   "id": "87aa9361-9c40-4938-9f74-8c8b7ccfb299",
   "metadata": {},
   "outputs": [],
   "source": [
    "import g_extract_hierarchical_relations\n",
    "importlib.reload(g_extract_hierarchical_relations)\n",
    "g_extract_hierarchical_relations.mod_extract_hierarchical_relations(FUNC_TRIPLETS_PATH, HIER_TRIPLETS_PATH, WORD_TO_VEC_MODEL_PATH)"
   ]
  },
  {
   "cell_type": "code",
   "execution_count": null,
   "id": "4858dd71-3aed-4796-93d5-5f79152b1eab",
   "metadata": {},
   "outputs": [],
   "source": []
  }
 ],
 "metadata": {
  "kernelspec": {
   "display_name": "Python NLP kernel",
   "language": "python",
   "name": "nlp_kernel"
  },
  "language_info": {
   "codemirror_mode": {
    "name": "ipython",
    "version": 3
   },
   "file_extension": ".py",
   "mimetype": "text/x-python",
   "name": "python",
   "nbconvert_exporter": "python",
   "pygments_lexer": "ipython3",
   "version": "3.9.21"
  }
 },
 "nbformat": 4,
 "nbformat_minor": 5
}
