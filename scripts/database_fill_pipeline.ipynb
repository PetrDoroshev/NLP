{
 "cells": [
  {
   "cell_type": "code",
   "execution_count": null,
   "id": "3985c588-12b8-41a7-9fa3-2f6b6a93adde",
   "metadata": {},
   "outputs": [],
   "source": [
    "import os\n",
    "import importlib\n",
    "import scripts_shared_functions\n",
    "\n",
    "importlib.reload(scripts_shared_functions)\n",
    "PG_DATA = scripts_shared_functions.get_pg_data()"
   ]
  },
  {
   "cell_type": "code",
   "execution_count": null,
   "id": "9523487e-a135-47c3-8c73-ac34a2802060",
   "metadata": {},
   "outputs": [],
   "source": [
    "RAW_PARAG_PATH = \"./../txt_articles/Параграфы/\"\n",
    "BUCKET_NAME = \"nlp-image-storage-ruimg-1\"\n",
    "SAVED_IMAGES_PATH = \"./../extracted_images/\"\n",
    "CLEAN_FRAG_PATH = \"./../txt_articles/Очистка_текста/\"\n",
    "TOKENS_PATH = \"./../txt_articles/Токенизация/\"\n",
    "LEMMAS_PATH = \"./../txt_articles/Лемматизация/\"\n",
    "FUNC_PATH = \"./../models/functional_triplets.json\"\n",
    "HIER_PATH = \"./../models/hier_triplets.json\"\n",
    "\n",
    "IMAGES_PATH_IN_SSS = \"https://storage.yandexcloud.net/nlp-image-storage-ruimg-1/images/__DONT_REMOVE_THIS_ARTICLE_NAME__/__DONT_REMOVE_THIS_PAGE_NUM__/\""
   ]
  },
  {
   "cell_type": "markdown",
   "id": "543fac88-005a-4011-a823-cd5ffc958db1",
   "metadata": {},
   "source": [
    "# Заполнение таблицы со статьями"
   ]
  },
  {
   "cell_type": "code",
   "execution_count": null,
   "id": "9b5ec237-1b1b-4f7b-9908-051268fab85d",
   "metadata": {},
   "outputs": [],
   "source": [
    "import a_init_articles\n",
    "importlib.reload(a_init_articles)\n",
    "articles_ids = a_init_articles.mod_init_articles(PG_DATA, RAW_PARAG_PATH, 'articles')"
   ]
  },
  {
   "cell_type": "markdown",
   "id": "49d9498e-0bc4-446a-9831-390a41ac92f6",
   "metadata": {},
   "source": [
    "# Заполнение таблиц с фрагментами и элементами"
   ]
  },
  {
   "cell_type": "code",
   "execution_count": null,
   "id": "252c3875-8c8b-40ad-9367-9cb9d29aaf38",
   "metadata": {},
   "outputs": [],
   "source": [
    "import c_init_fragments_and_elements\n",
    "importlib.reload(c_init_fragments_and_elements)\n",
    "fragements_ids = c_init_fragments_and_elements.mod_init_fragments_and_elements(PG_DATA, CLEAN_FRAG_PATH, 'fragments', articles_ids, IMAGES_PATH_IN_SSS)"
   ]
  },
  {
   "cell_type": "markdown",
   "id": "7cfa9bba-6b2d-4179-8e8a-975ad6b0c403",
   "metadata": {},
   "source": [
    "# Заполнение результатов предобработки"
   ]
  },
  {
   "cell_type": "code",
   "execution_count": null,
   "id": "189a8d9b-7938-4ebd-b374-84c576b8289a",
   "metadata": {},
   "outputs": [],
   "source": [
    "import d_init_preprocessing_results\n",
    "importlib.reload(d_init_preprocessing_results)\n",
    "d_init_preprocessing_results.mod_d_init_preprocessing_results(PG_DATA, TOKENS_PATH, LEMMAS_PATH, 'preprocessing_results', articles_ids, fragements_ids)"
   ]
  },
  {
   "cell_type": "markdown",
   "id": "871a892f-706c-4e16-a0e1-75b716004357",
   "metadata": {},
   "source": [
    "# Заполнение БД графами"
   ]
  },
  {
   "cell_type": "code",
   "execution_count": null,
   "id": "9ea8d3fe-34e8-4b10-aa28-f344808aeba6",
   "metadata": {},
   "outputs": [],
   "source": [
    "import e_init_graphs\n",
    "importlib.reload(e_init_graphs)\n",
    "e_init_graphs.mod_e_init_graphs(PG_DATA, FUNC_PATH, HIER_PATH, 'graphs', articles_ids, fragements_ids)"
   ]
  }
 ],
 "metadata": {
  "kernelspec": {
   "display_name": "Python 3 (ipykernel)",
   "language": "python",
   "name": "python3"
  },
  "language_info": {
   "codemirror_mode": {
    "name": "ipython",
    "version": 3
   },
   "file_extension": ".py",
   "mimetype": "text/x-python",
   "name": "python",
   "nbconvert_exporter": "python",
   "pygments_lexer": "ipython3",
   "version": "3.9.21"
  }
 },
 "nbformat": 4,
 "nbformat_minor": 5
}
