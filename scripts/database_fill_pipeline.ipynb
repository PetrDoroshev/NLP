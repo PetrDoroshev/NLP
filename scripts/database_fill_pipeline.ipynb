{
 "cells": [
  {
   "cell_type": "code",
   "execution_count": null,
   "id": "3985c588-12b8-41a7-9fa3-2f6b6a93adde",
   "metadata": {},
   "outputs": [],
   "source": [
    "import os\n",
    "import importlib\n",
    "import scripts_shared_functions\n",
    "\n",
    "importlib.reload(scripts_shared_functions)\n",
    "PG_DATA = scripts_shared_functions.get_pg_data()"
   ]
  },
  {
   "cell_type": "code",
   "execution_count": null,
   "id": "9523487e-a135-47c3-8c73-ac34a2802060",
   "metadata": {},
   "outputs": [],
   "source": [
    "RAW_PARAG_PATH = \"./../txt_articles/Параграфы/\"\n",
    "BUCKET_NAME = \"nlp-image-storage-ruimg-1\"\n",
    "SAVED_IMAGES_PATH = \"./../extracted_images/\"\n",
    "CLEAN_FRAG_PATH = \"./../txt_articles/Очистка_текста/\"\n",
    "TOKENS_PATH = \"./../txt_articles/Токенизация/\"\n",
    "LEMMAS_PATH = \"./../txt_articles/Лемматизация/\"\n",
    "FUNC_PATH = \"./../models/functional_triplets.json\"\n",
    "HIER_PATH = \"./../models/hier_triplets.json\""
   ]
  },
  {
   "cell_type": "markdown",
   "id": "543fac88-005a-4011-a823-cd5ffc958db1",
   "metadata": {},
   "source": [
    "# Заполнение таблицы со статьями"
   ]
  },
  {
   "cell_type": "code",
   "execution_count": null,
   "id": "9b5ec237-1b1b-4f7b-9908-051268fab85d",
   "metadata": {},
   "outputs": [],
   "source": [
    "import a_init_articles\n",
    "importlib.reload(a_init_articles)\n",
    "a_init_articles.mod_init_articles(PG_DATA, RAW_PARAG_PATH, 'articles')"
   ]
  },
  {
   "cell_type": "markdown",
   "id": "3ece6e9d-7928-4619-9e9a-4c3361dda8f1",
   "metadata": {},
   "source": [
    "# Сохранение изображений (не работает)"
   ]
  },
  {
   "cell_type": "code",
   "execution_count": null,
   "id": "b8ab0473-2efe-4f3f-b1bb-01bd921222b6",
   "metadata": {},
   "outputs": [],
   "source": [
    "'''\n",
    "import b_save_images\n",
    "importlib.reload(b_save_images)\n",
    "b_save_images.mod_save_images(BUCKET_NAME, SAVED_IMAGES_PATH)\n",
    "'''"
   ]
  },
  {
   "cell_type": "markdown",
   "id": "49d9498e-0bc4-446a-9831-390a41ac92f6",
   "metadata": {},
   "source": [
    "# Заполнение таблиц с фрагментами и элементами"
   ]
  },
  {
   "cell_type": "code",
   "execution_count": null,
   "id": "252c3875-8c8b-40ad-9367-9cb9d29aaf38",
   "metadata": {},
   "outputs": [],
   "source": [
    "import с_init_fragments_and_elements\n",
    "importlib.reload(с_init_fragments_and_elements)\n",
    "с_init_fragments_and_elements.mod_init_fragments_and_elements(PG_DATA, CLEAN_FRAG_PATH, 'fragments')"
   ]
  },
  {
   "cell_type": "code",
   "execution_count": null,
   "id": "189a8d9b-7938-4ebd-b374-84c576b8289a",
   "metadata": {},
   "outputs": [],
   "source": [
    "import d_init_preprocessing_results\n",
    "importlib.reload(d_init_preprocessing_results)\n",
    "d_init_preprocessing_results.mod_d_init_preprocessing_results(PG_DATA, TOKENS_PATH, LEMMAS_PATH, 'preprocessing_results')"
   ]
  },
  {
   "cell_type": "code",
   "execution_count": null,
   "id": "9ea8d3fe-34e8-4b10-aa28-f344808aeba6",
   "metadata": {},
   "outputs": [],
   "source": [
    "import e_init_graphs\n",
    "importlib.reload(e_init_graphs)\n",
    "e_init_graphs.mod_e_init_graphs(PG_DATA, FUNC_PATH, HIER_PATH, 'graphs')"
   ]
  },
  {
   "cell_type": "code",
   "execution_count": null,
   "id": "66e01f38-032c-4b55-a2fb-e909e1c251f5",
   "metadata": {},
   "outputs": [],
   "source": []
  }
 ],
 "metadata": {
  "kernelspec": {
   "display_name": "Python 3 (ipykernel)",
   "language": "python",
   "name": "python3"
  },
  "language_info": {
   "codemirror_mode": {
    "name": "ipython",
    "version": 3
   },
   "file_extension": ".py",
   "mimetype": "text/x-python",
   "name": "python",
   "nbconvert_exporter": "python",
   "pygments_lexer": "ipython3",
   "version": "3.9.21"
  }
 },
 "nbformat": 4,
 "nbformat_minor": 5
}
