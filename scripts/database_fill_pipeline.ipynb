{
 "cells": [
  {
   "cell_type": "code",
   "execution_count": null,
   "id": "3985c588-12b8-41a7-9fa3-2f6b6a93adde",
   "metadata": {},
   "outputs": [],
   "source": [
    "import os\n",
    "import importlib\n",
    "import scripts_shared_functions\n",
    "\n",
    "importlib.reload(scripts_shared_functions)\n",
    "PG_DATA = scripts_shared_functions.get_pg_data()"
   ]
  },
  {
   "cell_type": "code",
   "execution_count": null,
   "id": "9523487e-a135-47c3-8c73-ac34a2802060",
   "metadata": {},
   "outputs": [],
   "source": [
    "RAW_PARAG_PATH = \"./../txt_articles/Параграфы/\""
   ]
  },
  {
   "cell_type": "markdown",
   "id": "543fac88-005a-4011-a823-cd5ffc958db1",
   "metadata": {},
   "source": [
    "# Создание таблицы со статьями"
   ]
  },
  {
   "cell_type": "code",
   "execution_count": null,
   "id": "9b5ec237-1b1b-4f7b-9908-051268fab85d",
   "metadata": {},
   "outputs": [],
   "source": [
    "import a_init_articles\n",
    "importlib.reload(a_init_articles)\n",
    "a_init_articles.mod_init_articles(PG_DATA, RAW_PARAG_PATH, 'articles')"
   ]
  },
  {
   "cell_type": "code",
   "execution_count": null,
   "id": "537d1b4f-3bb7-4420-9959-a82425e1d054",
   "metadata": {},
   "outputs": [],
   "source": []
  }
 ],
 "metadata": {
  "kernelspec": {
   "display_name": "Python 3 (ipykernel)",
   "language": "python",
   "name": "python3"
  },
  "language_info": {
   "codemirror_mode": {
    "name": "ipython",
    "version": 3
   },
   "file_extension": ".py",
   "mimetype": "text/x-python",
   "name": "python",
   "nbconvert_exporter": "python",
   "pygments_lexer": "ipython3",
   "version": "3.9.21"
  }
 },
 "nbformat": 4,
 "nbformat_minor": 5
}
